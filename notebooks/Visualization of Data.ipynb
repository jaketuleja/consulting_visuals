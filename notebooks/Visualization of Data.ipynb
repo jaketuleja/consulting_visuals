{
 "cells": [
  {
   "cell_type": "code",
   "execution_count": null,
   "metadata": {
    "ExecuteTime": {
     "end_time": "2020-11-09T20:35:46.737585Z",
     "start_time": "2020-11-09T20:35:44.996685Z"
    }
   },
   "outputs": [],
   "source": [
    "import pandas as pd\n",
    "import data_work\n",
    "\n",
    "import matplotlib.pyplot as plt\n",
    "import matplotlib.ticker as mtick"
   ]
  },
  {
   "cell_type": "code",
   "execution_count": null,
   "metadata": {
    "ExecuteTime": {
     "end_time": "2020-11-09T20:35:46.808397Z",
     "start_time": "2020-11-09T20:35:46.745566Z"
    }
   },
   "outputs": [],
   "source": [
    "df = data_work.load_data()\n",
    "df.head()"
   ]
  },
  {
   "cell_type": "code",
   "execution_count": null,
   "metadata": {
    "ExecuteTime": {
     "end_time": "2020-11-09T20:35:46.878210Z",
     "start_time": "2020-11-09T20:35:46.812386Z"
    },
    "scrolled": false
   },
   "outputs": [],
   "source": [
    "df = data_work.clean_values(df)\n",
    "df.head()"
   ]
  },
  {
   "cell_type": "code",
   "execution_count": null,
   "metadata": {
    "ExecuteTime": {
     "end_time": "2020-11-09T20:35:46.940050Z",
     "start_time": "2020-11-09T20:35:46.881202Z"
    }
   },
   "outputs": [],
   "source": [
    "df = data_work.summary_calculations(df)\n",
    "df.head()"
   ]
  },
  {
   "cell_type": "code",
   "execution_count": null,
   "metadata": {
    "ExecuteTime": {
     "end_time": "2020-11-09T20:36:02.117157Z",
     "start_time": "2020-11-09T20:35:46.971473Z"
    }
   },
   "outputs": [],
   "source": [
    "df_detail = data_work.detail_calculations(df)\n",
    "df_detail.head()"
   ]
  },
  {
   "cell_type": "code",
   "execution_count": null,
   "metadata": {
    "ExecuteTime": {
     "end_time": "2020-11-09T20:36:02.154066Z",
     "start_time": "2020-11-09T20:36:02.133115Z"
    }
   },
   "outputs": [],
   "source": [
    "df_detail.tail()"
   ]
  },
  {
   "cell_type": "code",
   "execution_count": null,
   "metadata": {
    "ExecuteTime": {
     "end_time": "2020-11-09T20:36:02.460749Z",
     "start_time": "2020-11-09T20:36:02.158558Z"
    }
   },
   "outputs": [],
   "source": [
    "df_detail['amt_due'].plot()"
   ]
  },
  {
   "cell_type": "code",
   "execution_count": null,
   "metadata": {
    "ExecuteTime": {
     "end_time": "2020-11-09T20:36:02.686148Z",
     "start_time": "2020-11-09T20:36:02.463742Z"
    }
   },
   "outputs": [],
   "source": [
    "df_detail.loc[df_detail['deposit'], 'amt_due'].plot()"
   ]
  },
  {
   "cell_type": "code",
   "execution_count": null,
   "metadata": {
    "ExecuteTime": {
     "end_time": "2020-11-09T20:36:02.952435Z",
     "start_time": "2020-11-09T20:36:02.691139Z"
    }
   },
   "outputs": [],
   "source": [
    "df_detail.loc[(\n",
    "    (df_detail['deposit'] == False) &\n",
    "    (df_detail['contract_id'] == 974)\n",
    "), 'amt_due'].plot()"
   ]
  },
  {
   "cell_type": "code",
   "execution_count": null,
   "metadata": {
    "ExecuteTime": {
     "end_time": "2020-11-09T20:36:03.209258Z",
     "start_time": "2020-11-09T20:36:02.957422Z"
    },
    "scrolled": true
   },
   "outputs": [],
   "source": [
    "df_detail.loc[(\n",
    "    (df_detail['deposit'] == False) &\n",
    "    (df_detail['industry'] == 'Television Services')\n",
    "), 'amt_due'].plot()"
   ]
  },
  {
   "cell_type": "code",
   "execution_count": null,
   "metadata": {
    "ExecuteTime": {
     "end_time": "2020-11-09T20:36:03.565306Z",
     "start_time": "2020-11-09T20:36:03.214246Z"
    },
    "scrolled": true
   },
   "outputs": [],
   "source": [
    "df_detail.groupby('state').agg({'amt_due':'sum'}).plot.bar(y = 'amt_due', x= 'state')"
   ]
  },
  {
   "cell_type": "code",
   "execution_count": null,
   "metadata": {
    "ExecuteTime": {
     "end_time": "2020-11-09T20:36:30.282025Z",
     "start_time": "2020-11-09T20:36:29.836217Z"
    }
   },
   "outputs": [],
   "source": [
    "df_detail.groupby('state', as_index=False).agg({'amt_due':'sum'}).plot.bar(y = 'amt_due', x= 'state')"
   ]
  },
  {
   "cell_type": "code",
   "execution_count": null,
   "metadata": {
    "ExecuteTime": {
     "end_time": "2020-11-09T20:36:31.760120Z",
     "start_time": "2020-11-09T20:36:31.329273Z"
    }
   },
   "outputs": [],
   "source": [
    "df_detail.groupby('state', as_index=False).agg({'amt_due':'sum'}).sort_values('amt_due').plot.bar(y = 'amt_due', x= 'state')"
   ]
  },
  {
   "cell_type": "code",
   "execution_count": null,
   "metadata": {
    "ExecuteTime": {
     "end_time": "2020-11-09T20:36:33.306034Z",
     "start_time": "2020-11-09T20:36:33.256167Z"
    }
   },
   "outputs": [],
   "source": [
    "df_v = df_detail.reset_index()\n",
    "df_v['year'] = df_v['due_date'].dt.year\n",
    "df_v['month'] = df_v['due_date'].dt.month\n",
    "df_v.head()"
   ]
  },
  {
   "cell_type": "code",
   "execution_count": null,
   "metadata": {
    "ExecuteTime": {
     "end_time": "2020-11-09T20:36:35.304218Z",
     "start_time": "2020-11-09T20:36:35.105239Z"
    }
   },
   "outputs": [],
   "source": [
    "df_v.groupby(['year', 'month']).agg({'amt_due':sum}).plot()"
   ]
  },
  {
   "cell_type": "code",
   "execution_count": null,
   "metadata": {
    "ExecuteTime": {
     "end_time": "2020-11-09T20:36:37.296404Z",
     "start_time": "2020-11-09T20:36:37.024133Z"
    }
   },
   "outputs": [],
   "source": [
    "df_v.groupby(['year', 'month']).agg({'amt_due':sum}).plot(figsize=(20, 10))"
   ]
  },
  {
   "cell_type": "code",
   "execution_count": null,
   "metadata": {
    "ExecuteTime": {
     "end_time": "2020-11-09T20:36:45.937949Z",
     "start_time": "2020-11-09T20:36:45.602341Z"
    }
   },
   "outputs": [],
   "source": [
    "fmt = '${x:,.0f}'\n",
    "tick = mtick.StrMethodFormatter(fmt)\n",
    "\n",
    "df_v.groupby(['year', 'month']).agg({'amt_due':sum}).plot(figsize=(20, 10)).yaxis.set_major_formatter(tick)\n",
    "plt.xticks(rotation=45)"
   ]
  }
 ],
 "metadata": {
  "kernelspec": {
   "display_name": "Python 3",
   "language": "python",
   "name": "python3"
  },
  "language_info": {
   "codemirror_mode": {
    "name": "ipython",
    "version": 3
   },
   "file_extension": ".py",
   "mimetype": "text/x-python",
   "name": "python",
   "nbconvert_exporter": "python",
   "pygments_lexer": "ipython3",
   "version": "3.8.3"
  },
  "toc": {
   "base_numbering": 1,
   "nav_menu": {},
   "number_sections": true,
   "sideBar": true,
   "skip_h1_title": false,
   "title_cell": "Table of Contents",
   "title_sidebar": "Contents",
   "toc_cell": false,
   "toc_position": {},
   "toc_section_display": true,
   "toc_window_display": false
  },
  "varInspector": {
   "cols": {
    "lenName": 16,
    "lenType": 16,
    "lenVar": 40
   },
   "kernels_config": {
    "python": {
     "delete_cmd_postfix": "",
     "delete_cmd_prefix": "del ",
     "library": "var_list.py",
     "varRefreshCmd": "print(var_dic_list())"
    },
    "r": {
     "delete_cmd_postfix": ") ",
     "delete_cmd_prefix": "rm(",
     "library": "var_list.r",
     "varRefreshCmd": "cat(var_dic_list()) "
    }
   },
   "types_to_exclude": [
    "module",
    "function",
    "builtin_function_or_method",
    "instance",
    "_Feature"
   ],
   "window_display": false
  }
 },
 "nbformat": 4,
 "nbformat_minor": 4
}
